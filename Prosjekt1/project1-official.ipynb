{
 "cells": [
  {
   "cell_type": "code",
   "execution_count": 2,
   "metadata": {},
   "outputs": [],
   "source": [
    "import numpy as np\n",
    "import scipy.linalg as la\n",
    "import scipy as sp\n",
    "import matplotlib.pyplot as plt\n",
    "from tqdm import tqdm"
   ]
  },
  {
   "cell_type": "markdown",
   "metadata": {},
   "source": [
    "In this project we work with the equation $A\\mathbf{x} = \\mathbf{b}$. The project is divided into three tasks, all considering ways to solve systems like this. Firstly, in task 1, we work with the QR-decomposition of A. Secondly, we look at Tikhonov regularisation, using the same system as we did in task 1. Finally we will consider \"Single Channel Source Separation\", where we look at a slightly different system.  "
   ]
  },
  {
   "cell_type": "markdown",
   "metadata": {},
   "source": [
    "##### Task 1: QR with Gram-Schmidt"
   ]
  },
  {
   "cell_type": "markdown",
   "metadata": {},
   "source": [
    "1.a) Firstly we consider linear systems on the form $A\\mathbf{x} = \\mathbf{y}$ where $A \\in \\mathbb{R}^{2x3}$, $x \\in \\mathbb{R}^{3}$ and $y \\in \\mathbb{R}^{2}$. Below are two examples of such systems. System (1) does not have a solution, wheras (2) has infinitely many:"
   ]
  },
  {
   "cell_type": "markdown",
   "metadata": {},
   "source": [
    "System (1): $$A = \\begin{bmatrix}\n",
    " 1& 0 & 0 \\\\\n",
    " 0& 0 & 0 \\\\\n",
    "\\end{bmatrix}\n",
    ", \\mathbf{y} = \\begin{bmatrix}\n",
    " 1\\\\1\n",
    "\\end{bmatrix}$$\n",
    "\n",
    "System (2): $$A = \\begin{bmatrix}\n",
    " 4& -1 & 0 \\\\\n",
    " -12& 3 & 1 \\\\\n",
    "\\end{bmatrix}\n",
    ", \\mathbf{y} = \\begin{bmatrix}\n",
    " 1\\\\1\n",
    "\\end{bmatrix}$$\n",
    "\n",
    "In system (1) we get: $0x_1 + 0x_2 + 0x_3 = 1$. This is not possible, hence there are no solution to this system. However, in system (2) we get a free variable $x_1$: $x_2 = 4x_1-1, x_3 = 4$. This implies that our system has infinitely many solutions. Later, system (2) will be used to test some of our functions.  "
   ]
  },
  {
   "cell_type": "markdown",
   "metadata": {},
   "source": [
    "1.b) Now we have a matrix A $\\in \\mathbb{R}^{mxn}$, m < n. We want to show that both $AA^T$ and $A^TA$ are symmetric and positive semi-definite. If we want to show that a given matrix B is symmetric, we have to show that $B = B^T$. Moreover, to show positive semi-definiteness for a given matrix B, we have to show that for B $\\in \\mathbb{R}^{mxm}$ we have $\\mathbf{x}^TB\\mathbf{x} \\geq  0$ for all $\\mathbf{x} \\in \\mathbb{R}^m$ \\ {$\\mathbf{0}$}. This is done below: "
   ]
  },
  {
   "cell_type": "markdown",
   "metadata": {},
   "source": [
    "Symmetric: \n",
    "$$\n",
    "AA^T: (AA^T)^T = (A^T)^TA^T = AA^T \\quad \\square \\\\\n",
    "A^TA: (A^TA)^T = A^T(A^T)^T = A^TA \\quad  \\square\n",
    "$$\n",
    "\n",
    "Positive semi-definite:\n",
    "\\begin{align*}\n",
    "&AA^T: \\mathbf{x}^T(AA^T)\\mathbf{x} = \\mathbf{x}^TAA^T\\mathbf{x} = (A^T\\mathbf{x})^TA^T\\mathbf{x} = \\left\\| A^T \\mathbf{x}\\right\\|^2 \\geq 0 \\quad \\square\\\\\n",
    "&A^TA: \\mathbf{x}^T(A^TA)\\mathbf{x} = \\mathbf{x}^TA^TA\\mathbf{x} = (A\\mathbf{x})^TA\\mathbf{x} =  \\left\\| A\\mathbf{x}\\right\\|^2 \\geq 0  \\quad \\square\n",
    "\\end{align*}"
   ]
  },
  {
   "cell_type": "markdown",
   "metadata": {},
   "source": [
    "The last inequalities comes from the semi positive-definiteness of norms. Additionally, we want to discuss the invertibility of these two matrices. We have that $A^TA \\in \\mathbb{R}^{nxn}$ and $AA^T \\in \\mathbb{R}^{mxm}$. Assume that $A$ has full rank ($rank(A) = m$). This implies that $rank(A^T) = m$ as well. Consequently $rank(A^TA)=rank(AA^T)=m$. We know that $AA^T \\in \\mathbb{R}^{mxm}$, meaning that $AA^T$ is invertible by the equivalent conditions of the invertibility theorem for matrices. However, $A^TA \\in \\mathbb{R}^{nxn}$ and has $rank(A^TA) = m$. Since $m < n$, $A^TA$ is not invertible. The fact that $AA^T$ is invertible will be used in the next task."
   ]
  },
  {
   "cell_type": "markdown",
   "metadata": {},
   "source": [
    "1.c) \n",
    "\n",
    "The main goal of Task 1 is to obtain unique solutions from a system with infinitely many solutions. In order to do this we need additional assumptions on $\\mathbf{x}$. In our case we ask for the minimal norm solution $\\mathbf{x}_{min}$. \n",
    "\n",
    "We have given that $\\mathbf{x}_{min} = A^T(AA^T)^{-1}\\mathbf{y}$. In order to show this we have to calculate $\\nabla_x \\mathcal{L}(\\mathbf{x}, \\mathbf{\\lambda})$ and $\\nabla_\\lambda \\mathcal{L}(\\mathbf{x}, \\mathbf{\\lambda})$, and set them equal to zero. This way we get a set of equations that can be solved to obtain $\\mathbf{x}_{min}$. "
   ]
  },
  {
   "cell_type": "markdown",
   "metadata": {},
   "source": [
    "We have that:\n",
    "\n",
    "$$\\mathcal{L}(\\mathbf{x}, \\mathbf{\\lambda}) = \\mathbf{x}^T\\mathbf{x} + \\lambda^T(A\\mathbf{x}-\\mathbf{y}) \\\\\n",
    "$$\n",
    "$$\n",
    "\\nabla_x \\mathcal{L}(\\mathbf{x}, \\mathbf{\\lambda}) = \\nabla_\\mathbf{x} (\\mathbf{x}^T\\mathbf{x} + \\lambda^T(A\\mathbf{x}-\\mathbf{y}))\n",
    "$$\n",
    "\n",
    "We split this calculation into two parts. Note that in this project the unit vector in a direction k is given by $\\hat{x}_k$. First we calculate $\\nabla_x (\\mathbf{x}^T\\mathbf{x}):$\n",
    "$$\n",
    "\\nabla_x (\\mathbf{x}^T\\mathbf{x}) = \\nabla_x (\n",
    "\\begin{bmatrix}\n",
    "x_1, & x_2, & \\cdots, & x_n \\\\\n",
    "\\end{bmatrix}\n",
    "\\begin{bmatrix}\n",
    "x_1 \\\\\n",
    "x_2\\\\\n",
    "\\vdots\\\\\n",
    "x_n\n",
    "\\end{bmatrix}) = \\nabla_x (\\sum_{j=1}^{n} x_j^2) = \\sum_{j=1}^{n} \\hat{x}_j 2x_j = \\underline{2\\mathbf{x}}\n",
    "$$\n",
    "\n",
    "Secondly, we calculate $\\nabla_\\mathbf{x}( \\lambda^T(A\\mathbf{x}-\\mathbf{y})):$\n",
    "\n",
    "$$\n",
    "\\nabla_\\mathbf{x}( \\lambda^T(A\\mathbf{x}-\\mathbf{y})) = \\nabla_\\mathbf{x} (\\lambda^TA\\mathbf{x}) = \n",
    "\\nabla_\\mathbf{x}( \n",
    "\\begin{bmatrix}\n",
    "\\lambda_1, & \\lambda_2, & \\cdots, & \\lambda_n \\\\\n",
    "\\end{bmatrix}\n",
    "A\\mathbf{x})\n",
    "$$ \n",
    "\n",
    "$A\\mathbf{x}$ can be written as:\n",
    "$\n",
    "\\begin{bmatrix}\n",
    " \\sum_{j=1}^{n} a_{1j} x_j\\\\\n",
    " \\vdots\\\\\n",
    "\\sum_{j=1}^{n} a_{nj} x_j\n",
    "\\end{bmatrix}\n",
    "$\n",
    "\n",
    "$$ \n",
    "\\implies \n",
    "\\nabla_\\mathbf{x}(\n",
    "\\begin{bmatrix}\n",
    "\\lambda_1, & \\lambda_2, & \\cdots, & \\lambda_n \\\\\n",
    "\\end{bmatrix} \n",
    "\\begin{bmatrix}\n",
    " \\sum_{j=1}^{n} a_{1j} x_j\\\\\n",
    " \\vdots\\\\\n",
    "\\sum_{j=1}^{n} a_{nj} x_j\n",
    "\\end{bmatrix}\n",
    ") = \\nabla_\\mathbf{x}(\\lambda_1 \\sum_{j=1}^{n} a_{1j} x_j + \\lambda_2 \\sum_{j=1}^{n} a_{2j} x_j + \\cdots + \\lambda_n \\sum_{j=1}^{n} a_{nj} x_j)\n",
    "$$\n",
    "\n",
    "Lets see what happens with each term: \n",
    "\n",
    "$$\n",
    "\\hat{x_k} \\frac{\\partial }{\\partial x_k} (\\lambda_1 \\sum_{j=1}^{n} a_{1j} x_j + \\cdots + \\lambda_n \\sum_{j=1}^{n} a_{nj} x_j) = \\hat{x_k}(\\lambda_1 a_{1k} \\frac{\\partial }{\\partial x_k} x_k + \\lambda_2 a_{2k} \\frac{\\partial }{\\partial x_k} x_k + \\cdots + \\lambda_n a_{nk}\\frac{\\partial }{\\partial x_k} x_k) \\\\\n",
    "= \\hat{x_k}(\\lambda_1 a_{1k} + \\lambda_2 a_{2k} + \\cdots + \\lambda_n a_{nk}) = \\sum_{j=1}^{n} a_{jk} \\lambda_j \\hat{x}_k \\\\ \n",
    "\\implies \\nabla_\\mathbf{x}( \\lambda^TA\\mathbf{x}) =  \n",
    "\\begin{bmatrix}\n",
    "\\sum_{j=1}^{n} a_{j1} \\lambda_j \\\\\n",
    "\\sum_{j=1}^{n} a_{j2} \\lambda_j\\\\\n",
    "\\vdots\\\\\n",
    "\\sum_{j=1}^{n} a_{jn} \\lambda_j\n",
    "\\end{bmatrix} = \n",
    "\\begin{bmatrix}\n",
    "\\sum_{j=1}^{n} (a_{1j})^T \\lambda_j \\\\\n",
    "\\sum_{j=1}^{n} (a_{2j})^T \\lambda_j\\\\\n",
    "\\vdots\\\\\n",
    "\\sum_{j=1}^{n} (a_{nj})^T \\lambda_j\n",
    "\\end{bmatrix}\n",
    "= \\underline{A^T\\mathbf{\\lambda}}\n",
    "$$\n",
    "\n",
    "Combining these calculations we get: \n",
    "$$\n",
    "\\nabla_x \\mathcal{L}(\\mathbf{x}, \\mathbf{\\lambda}) = \\underline{2 \\mathbf{x} + A^T\\mathbf{\\lambda}}\n",
    "$$\n"
   ]
  },
  {
   "cell_type": "markdown",
   "metadata": {},
   "source": [
    "Now, we calculate $\\nabla_{\\lambda}\\mathcal{L}(\\mathbf{x}, \\mathbf{\\lambda})$. We know that $A\\mathbf{x} - \\mathbf{y}$ is a vector in $\\mathbb{R}^m$, we call this vector $\\mathbf{z}$:\n",
    "\n",
    "\n",
    "$$\\nabla_{\\lambda} \\mathcal{L} (\\mathbf{x}, \\mathbf{\\lambda}) = \\nabla_{\\lambda}(\\mathbf{x}^T\\mathbf{x} + \\mathbf{\\lambda}^T(A\\mathbf{x}-\\mathbf{y})) = \\nabla_{\\lambda}(\\mathbf{x}^T\\mathbf{x} + \\mathbf{\\lambda}^T\\mathbf{z})= \\nabla_{\\lambda}(\\mathbf{\\lambda}^T\\mathbf{z}) = \\\\ \\nabla_{\\lambda} (\n",
    "\\begin{bmatrix}\n",
    " \\lambda_1,& \\cdots, & \\lambda_n \\\\\n",
    "\\end{bmatrix}\n",
    "\\begin{bmatrix}\n",
    " z_1\\\\\n",
    " \\vdots\\\\\n",
    "z_n\n",
    "\\end{bmatrix}) \\\\\n",
    "= \\nabla_{\\lambda} (\\lambda_1z_1 + \\cdots + \\lambda_nz_n)\n",
    "= (\\hat{x}_1 \\frac{\\partial}{\\partial\\lambda_1}\\lambda_1z_1 + \\cdots + \\hat{x}_n \\frac{\\partial}{\\partial\\lambda_n}\\lambda_nz_n)$$\n",
    "\n",
    "$$\n",
    "= \\mathbf{z} = \\underline{A\\mathbf{x} - \\mathbf{y}}\n",
    "$$\n",
    "\n",
    "Finally we get: \n",
    "\n",
    "$$\n",
    "(1)\\quad \\nabla_x \\mathcal{L}(\\mathbf{x}, \\mathbf{\\lambda}) = 2 \\mathbf{x} + A^T\\mathbf{\\lambda}  \\\\\n",
    "(2)\\quad \\nabla_{\\lambda}\\mathcal{L}(\\mathbf{x}, \\mathbf{\\lambda}) = A\\mathbf{x} - \\mathbf{y}  \\quad\n",
    "$$"
   ]
  },
  {
   "cell_type": "markdown",
   "metadata": {},
   "source": [
    "We know that a solution to this optimization probem satisfies $\\nabla_x \\mathcal{L}(\\mathbf{x}, \\mathbf{\\lambda}) = 0$ and $\\nabla_{\\lambda}\\mathcal{L}(\\mathbf{x}, \\mathbf{\\lambda})=0$. We solve this system with respect to $\\mathbf{x}$. \n",
    "\n",
    "$$\n",
    "(1) \\quad 2 \\mathbf{x} + A^T\\mathbf{\\lambda} = 0 \\implies \\mathbf{x} = -\\frac{1}{2}A^T\\mathbf{\\lambda} \\\\\n",
    "(2) + (1) \\quad A\\mathbf{x} - \\mathbf{y} = 0 \\implies A(-\\frac{1}{2}A^T\\mathbf{\\lambda}) - \\mathbf{y} = 0\n",
    "$$\n",
    "\n",
    "We know that $AA^T$ is invertible from 1.b):\n",
    "\n",
    "$$\n",
    "(-\\frac{1}{2}AA^T\\mathbf{\\lambda}) - \\mathbf{y} = 0 \\implies -2(AA^T)^{-1}\\mathbf{y} = \\lambda\n",
    "$$\n",
    "\n",
    "If we combine this expression for $\\lambda$ with (1), we obtain:\n",
    "$$\n",
    "\\mathbf{x} = A^T(AA^T)^{-1}\\mathbf{y} \\quad \\square\n",
    "$$"
   ]
  },
  {
   "cell_type": "markdown",
   "metadata": {},
   "source": [
    "1.d) \n",
    "In this task we are going to implement a function that calculates the QR decomposition of a given matrix $A$. This function will be used to solve the system. In order to do this we have to express $\\mathbf{x}_{min}$ with the matrices $Q$ and $R$. We know that $A^T = QR$:\n",
    "\n",
    "$$\n",
    "\\mathbf{x}_{min} = A^T(AA^T)^{-1}\\mathbf{y} = QR(A QR)^{-1}\\mathbf{y}\n",
    "$$\n",
    "\n",
    "Have that $A = (A^T)^T = (QR)^T:$\n",
    "\n",
    "$$\n",
    "\\mathbf{x}_{min} =QR((QR)^T QR)^{-1}\\mathbf{y} = QR(R^TQ^T QR)^{-1}\\mathbf{y}\n",
    "$$\n",
    "\n",
    "Since Q is orthogonal, $Q^TQ = I:$\n",
    "\n",
    "$$\n",
    "\\implies \\mathbf{x}_{min} =QR(R^TR)^{-1}\\mathbf{y} = QRR^{-1}R^{-T}\\mathbf{y} = QR^{-T}\\mathbf{y} \\quad \\square\n",
    "$$\n",
    "\n",
    "Knowing that $\\mathbf{x}_{min}=QR^{-T}\\mathbf{y}$, we will now implement the QR decomposition function. The function below takes $A$ as input and returns both $Q$ and $R.$ Note that the function use Gram-Schmidt to find an orthogonal basis of $A$, and then use the resulting vectors to calculate $Q$ and $R$. "
   ]
  },
  {
   "cell_type": "code",
   "execution_count": 3,
   "metadata": {},
   "outputs": [],
   "source": [
    "def QR_decomp(A): \n",
    "    ''' \n",
    "    Takes a matrix m * n matrix A (where m < n) and calculate the QR decomposition. \n",
    "    Uses Gram-Schmidt to calculate Q, and then R from the dot product of the \n",
    "    columns in A and Q.\n",
    "    Intput:\n",
    "        m * n Matrix A, m < n. \n",
    "    Output:\n",
    "        m * n Matrix Q \n",
    "        n * n Matrix R\n",
    "    '''\n",
    "    \n",
    "    m,n = np.shape(A)\n",
    "    At = np.transpose(A)\n",
    "    \n",
    "    Q = np.zeros((n,m))\n",
    "    R = np.zeros((m,m))\n",
    "    \n",
    "    u_k = At[:,0] #u_0 \n",
    "    \n",
    "    #implementing gram-Schmidt \n",
    "    for k in range(m):\n",
    "        sum_tot = 0\n",
    "        for j in range(k):\n",
    "            sum_tot += (At[:,k]@Q[:,j])*Q[:,j]\n",
    "        u_k = At[:,k] - sum_tot\n",
    "        \n",
    "        Q[:,k] = u_k / la.norm(u_k)\n",
    "        for j in range(k, m): #R matrix\n",
    "            R[k,j] = At[:,j]@Q[:,k]\n",
    "            \n",
    "    return Q, R    "
   ]
  },
  {
   "cell_type": "markdown",
   "metadata": {},
   "source": [
    "Usually, one does not calculate the inverse of a matrix because it requires a lot of computational power. Alternativley, the equation can be rewritten and solved in two steps:\n",
    "\n",
    "$$\n",
    "\\mathbf{x}_{min} = QR^{-T}\\mathbf{y} \n",
    "$$\n",
    "\n",
    "\n",
    "Know that $Q^TQ=I$. By multiplying the equation with $Q^T$, and then $R^{T}$ we get:\n",
    "\n",
    "$$\n",
    "R^{T}Q^T\\mathbf{x}_{min} = \\mathbf{y}\n",
    "$$\n",
    "\n",
    "If we define $Q^T\\mathbf{x}_{min} = \\mathbf{z}$ we can solve the system by calculating $R^T\\mathbf{z} = \\mathbf{y}$ and then $\\mathbf{x}_{min} = Q\\mathbf{z}$. Below is a function that uses this method to calculate $\\mathbf{x}_{min}$. "
   ]
  },
  {
   "cell_type": "code",
   "execution_count": 4,
   "metadata": {},
   "outputs": [],
   "source": [
    "def solve_QR(Q,R,y):\n",
    "    '''\n",
    "    Takes inn Q,R (from a QR decomposition) and y and calculates a solution x_min from the equation QRx_min = y.    \n",
    "    Input:\n",
    "        n * m Matrix Q, m < n\n",
    "        m * m Matrix R\n",
    "        Vector y with dimention m\n",
    "    Output:\n",
    "        Vector x_min with dimention n\n",
    "    '''\n",
    "    z = la.solve_triangular(np.transpose(R), np.transpose(y),lower=True) \n",
    "    x_min = np.dot(Q,z) \n",
    "    return x_min"
   ]
  },
  {
   "cell_type": "markdown",
   "metadata": {},
   "source": [
    "We should test this function. We use system (2) from 1.a) to check:"
   ]
  },
  {
   "cell_type": "code",
   "execution_count": 5,
   "metadata": {},
   "outputs": [
    {
     "name": "stdout",
     "output_type": "stream",
     "text": [
      "A_test =  [[  4  -1   0]\n",
      " [-12   3   1]]\n",
      "Check that QR = A^T:\n",
      "Q dot R = [[  4. -12.]\n",
      " [ -1.   3.]\n",
      " [  0.   1.]]\n",
      "Check solve_QR. A_test dot x_min should be equal to y_test:\n",
      "y_test =  [42 21]\n",
      "A_test dot x_min = [42. 21.]\n"
     ]
    }
   ],
   "source": [
    "A_test = np.array([[4,-1,0],\n",
    "             [-12,3,1]])\n",
    "\n",
    "y_test = np.array([42,21])\n",
    "\n",
    "Q, R = QR_decomp(A_test) #A must be full rank. here rank = m, since A is m*n and m<n\n",
    "print('A_test = ', A_test)\n",
    "print('Check that QR = A^T:')\n",
    "print('Q dot R =', Q@R)\n",
    "print('Check solve_QR. A_test dot x_min should be equal to y_test:')\n",
    "x_min = solve_QR(Q,R,y_test)\n",
    "print('y_test = ', y_test)\n",
    "print('A_test dot x_min =', A_test@x_min)"
   ]
  },
  {
   "cell_type": "markdown",
   "metadata": {},
   "source": [
    "The test above seems to be ok."
   ]
  },
  {
   "cell_type": "markdown",
   "metadata": {},
   "source": [
    "1f) Now that we have implementet the functions above, we want to test how they cope with larger systems, using the handed-out code. In addition we are going to compare our functions to NumPy implementations. Here we are solving for 100 different y and x. As we run some of the code blocks we time them as well. This way we can see which functions reqiure the most computational power. A short discussion of these results comes inbetween the code blocks below.  "
   ]
  },
  {
   "cell_type": "code",
   "execution_count": 6,
   "metadata": {},
   "outputs": [],
   "source": [
    "# Generate matrix A \\in \\mathbb{R}^{m \\times n}\n",
    "def generate_A(m,n):\n",
    "    \"\"\"\n",
    "    Generates m times n with correlated columns.\n",
    "    Input:\n",
    "        m: int, first dimension of A\n",
    "        n: int, second dimension of A\n",
    "    output:\n",
    "        A: (m,n) array\n",
    "    \"\"\"\n",
    "\n",
    "    cov_eigvecs = np.random.uniform(-1.0,1.0,(n,n))\n",
    "    cov = cov_eigvecs.T @ cov_eigvecs\n",
    "    v = np.sqrt(np.diag(cov))\n",
    "    outer_v = np.outer(v, v)\n",
    "    corr = cov / outer_v\n",
    "    corr[cov == 0] = 0\n",
    "    chol = sp.linalg.cholesky(corr, lower=True) \n",
    "    A = np.random.normal(0, 1.0,(m,n))\n",
    "    A = np.dot(A,chol.T)\n",
    "    return A"
   ]
  },
  {
   "cell_type": "code",
   "execution_count": 7,
   "metadata": {},
   "outputs": [],
   "source": [
    "m = 1024*2\n",
    "n = 4048*2\n",
    "N = 100  # Number of test data we want to generate"
   ]
  },
  {
   "cell_type": "code",
   "execution_count": 9,
   "metadata": {},
   "outputs": [
    {
     "name": "stdout",
     "output_type": "stream",
     "text": [
      "8.43 s ± 0 ns per loop (mean ± std. dev. of 1 run, 1 loop each)\n"
     ]
    }
   ],
   "source": [
    "%%timeit -r 1 -n 1\n",
    "A = generate_A(m,n)\n",
    "AAT = np.dot(A, A.T)"
   ]
  },
  {
   "cell_type": "code",
   "execution_count": 10,
   "metadata": {},
   "outputs": [
    {
     "name": "stdout",
     "output_type": "stream",
     "text": [
      "(8096, 100)\n",
      "(2048, 100)\n"
     ]
    }
   ],
   "source": [
    "# Generate solutions X columnwise, X[:,i] to access i-th vector\n",
    "X = np.random.normal(0.0,1.0,(A.shape[1],N))\n",
    "\n",
    "# Generate left hand sides Y columnwise Y[:,i] to access lhs\n",
    "Y = np.dot(A,X)\n",
    "\n",
    "# Doublecheck shapes\n",
    "print(X.shape) # Expect (n,N)\n",
    "print(Y.shape) # Expect (m,N)"
   ]
  },
  {
   "cell_type": "markdown",
   "metadata": {},
   "source": [
    "First, let us compare our QR decomposition to numpy.linalg.qr():"
   ]
  },
  {
   "cell_type": "code",
   "execution_count": 12,
   "metadata": {},
   "outputs": [
    {
     "name": "stdout",
     "output_type": "stream",
     "text": [
      "5min 14s ± 0 ns per loop (mean ± std. dev. of 1 run, 1 loop each)\n"
     ]
    }
   ],
   "source": [
    "%%timeit -r 1 -n 1\n",
    "Q, R = QR_decomp(A)"
   ]
  },
  {
   "cell_type": "code",
   "execution_count": 14,
   "metadata": {},
   "outputs": [
    {
     "name": "stdout",
     "output_type": "stream",
     "text": [
      "1.12 s ± 0 ns per loop (mean ± std. dev. of 1 run, 1 loop each)\n"
     ]
    }
   ],
   "source": [
    "%%timeit -r 1 -n 1\n",
    "Q_numpy, R_numpy = np.linalg.qr(A.T)"
   ]
  },
  {
   "cell_type": "markdown",
   "metadata": {},
   "source": [
    "In the two code blocks above, we time our own and NumPy's QR decomposition. It is clear that our implementation requires more time to finish. The NumPy implementations are well written, so the fact that it is more efficient is not suprising."
   ]
  },
  {
   "cell_type": "markdown",
   "metadata": {},
   "source": [
    "Next, we compare how fast our solver solve_QR() and numpy.linalg.solve() solves 100 different system. Numpy.linalg.solve() requires that the input matrix A is square and of full rank, therefore we have to rewrite our system and solve:\n",
    "\n",
    "$$ AA^T\\mathbf{z} = \\mathbf{y} \\\\\n",
    "\\quad \\mathbf{x}_{min} = A^T\\mathbf{z}$$"
   ]
  },
  {
   "cell_type": "markdown",
   "metadata": {},
   "source": [
    "Our solver:"
   ]
  },
  {
   "cell_type": "code",
   "execution_count": 30,
   "metadata": {},
   "outputs": [],
   "source": [
    "%%timeit -r 1 -n 1\n",
    "norm_values_mySolver = np.zeros(N)\n",
    "for i in range(N):\n",
    "    x_min_mySolver = solve_QR(Q, R, Y[:,i])\n",
    "    norm_values_mySolver[i] = la.norm(x_min_mySolver - X[:,i])"
   ]
  },
  {
   "cell_type": "markdown",
   "metadata": {},
   "source": [
    "Using numpy.linalg.solve():"
   ]
  },
  {
   "cell_type": "code",
   "execution_count": 32,
   "metadata": {},
   "outputs": [
    {
     "name": "stdout",
     "output_type": "stream",
     "text": [
      "7.64 s ± 0 ns per loop (mean ± std. dev. of 1 run, 1 loop each)\n"
     ]
    }
   ],
   "source": [
    "%%timeit -r 1 -n 1\n",
    "norm_values_numpy = np.zeros(N)\n",
    "for i in range(N):\n",
    "    z = np.linalg.solve(AAT, Y[:,i])\n",
    "    x_min_numpy = np.dot(A.T, z)\n",
    "    norm_values_numpy[i] = la.norm(x_min_numpy - X[:,i]) "
   ]
  },
  {
   "cell_type": "markdown",
   "metadata": {},
   "source": [
    "Our solver is faster than numpy.linalg.solve(). One reason for this may be that we have pre-calculated Q and R, and takes use of numpy.linalg.solve_triangular() which is more efficient than the usual numpy.linalg.solve(). Numpy.linalg.solve_triangular() takes advantage of the fact that our system contains the (lower) triangular matrix $R^T$ to make the calculations less complex. On the other hand, numpy.linalg.solve() have to manipulate and then solve the system, meaning that there requires more computational power. "
   ]
  },
  {
   "cell_type": "markdown",
   "metadata": {},
   "source": [
    "Furthermore, we can look at the value $\\left\\|\\mathbf{x}_{min} - \\mathbf{x}_{true} \\right\\|$, where $\\mathbf{x}_{true}$ is an element in X, that is a part of the handed out code. We do this through a plot that compares the value of $\\left\\|\\mathbf{x}_{min} - \\mathbf{x}_{true} \\right\\|$ from numpy.linalg.solve() and our solver. This plot shows the difference in this value for all 100 $\\mathbf{x}_{min}$."
   ]
  },
  {
   "cell_type": "code",
   "execution_count": 33,
   "metadata": {},
   "outputs": [
    {
     "data": {
      "image/png": "[encoded data removed]",
      "text/plain": [
       "<Figure size 432x288 with 1 Axes>"
      ]
     },
     "metadata": {
      "needs_background": "light"
     },
     "output_type": "display_data"
    }
   ],
   "source": [
    "N_list = np.arange(0,N) \n",
    "plt.plot(N_list, norm_values_numpy, label = \"$||\\mathbf{x}_{min} - \\mathbf{x}_{true}||$ with numpy\")\n",
    "plt.plot(N_list, norm_values_mySolver, label = \"$||\\mathbf{x}_{min} - \\mathbf{x}_{true}||$ with mySolver\")\n",
    "plt.xlabel(\"i\")\n",
    "plt.ylabel(\"$||\\mathbf{x}_{min} - \\mathbf{x}_{true}||_2$\") \n",
    "plt.title(\"Plot of $||\\mathbf{x}_{min} - \\mathbf{x}_{true}||$ for different Y[:,i]\")\n",
    "plt.grid()\n",
    "plt.legend()\n",
    "plt.show()\n"
   ]
  },
  {
   "cell_type": "markdown",
   "metadata": {},
   "source": [
    "The first thing we realize is that the value of $\\left\\|\\mathbf{x}_{min} - \\mathbf{x}_{true} \\right\\|$ from both solvers are identical. Consequently, we know that both calculate the same unique minimizer $\\mathbf{x}_{min}$. With this in mind, we can say that we have found a meaningfull solution."
   ]
  },
  {
   "cell_type": "markdown",
   "metadata": {},
   "source": [
    "# Task 2"
   ]
  },
  {
   "cell_type": "markdown",
   "metadata": {},
   "source": [
    "In this task we want to solve our system with Tikhonov regularisation. Tikhonov regularisation is given by: \n",
    "\n",
    "\n",
    "$$\n",
    "\\mathbf{x}_r = \\underset{\\mathbf{x}\\in \\mathbb{R}^n}{argmin}\\left\\| A\\mathbf{x}-\\mathbf{y} \\right\\|^2 + \\mu \\left\\| \\mathbf{x} \\right\\|^2\n",
    "$$\n",
    "\n",
    "\n",
    "If $A\\mathbf{x}=\\mathbf{y}$ has infinitely many solution, $\\underset{\\mathbf{x}\\in \\mathbb{R}^n}{argmin}\\left\\| A\\mathbf{x}-\\mathbf{y}\\right\\|^2$ can give any $\\mathbf{x}$. However, if we add the $\\mu$-term, we can minimize the norm of $\\mathbf{x}$ as well. \n",
    "Tikhonov regularisation tries to minimize both $||A\\mathbf{x}-\\mathbf{y}||^2$ and $||\\mathbf{x}||^2$, whereas the value of $\\mu$ decide what is most important; a small norm $\\mathbf{x}$ (large values of $\\mu$) or a solution to $A\\mathbf{x}=\\mathbf{y}$ (small values of $\\mu$). We \"balance\" between a solution of $A\\mathbf{x}-\\mathbf{y}$ and a small norm of $\\mathbf{x}$ as stated in the task description. "
   ]
  },
  {
   "cell_type": "markdown",
   "metadata": {},
   "source": [
    "2.a) First, we want to show that a solution $\\mathbf{x}_r$ satisfies $(A^TA + \\mu I)\\mathbf{x}_r = A^T\\mathbf{y}$. We start with:\n",
    "\n",
    "\n",
    "$$\n",
    "T(\\mathbf{x}) = \\left\\| A\\mathbf{x}-\\mathbf{y} \\right\\|^2 + \\mu \\left\\| \\mathbf{x} \\right\\|^2 \\\\\n",
    "$$\n",
    "\n",
    "We are going to calculate $\\nabla_{\\mathbf{x}}T(\\mathbf{x}) = 0$.\n",
    "\n",
    "$$\n",
    "\\nabla_{\\mathbf{x}}T(\\mathbf{x}) = \\nabla_{\\mathbf{x}}(\\left\\| A\\mathbf{x}-\\mathbf{y} \\right\\|^2 + \\mu \\left\\| \\mathbf{x} \\right\\|^2)\n",
    "= \\nabla_{\\mathbf{x}}((A\\mathbf{x}-\\mathbf{y})^T(A\\mathbf{x}-\\mathbf{y})) + \\nabla_{\\mathbf{x}}(\\mu \\mathbf{x}^T\\mathbf{x}) = \\nabla_{\\mathbf{x}}(((A\\mathbf{x})^T-\\mathbf{y}^T)(A\\mathbf{x}-\\mathbf{y})) + \\nabla_{\\mathbf{x}}(\\mu \\mathbf{x}^T\\mathbf{x}) \n",
    "$$\n",
    "\n",
    "Let $g(\\mathbf{x}) = \\mu \\left\\|\\mathbf{x}\\right\\|^2$ and $h(\\mathbf{x}) = \\left\\|A\\mathbf{x} - \\mathbf{y} \\right\\|^2$:\n",
    "\n",
    "$$\n",
    "g(\\mathbf{x}) = \\mu \\Sigma_{i=1}^n x_i^2 \\implies \\nabla_\\mathbf{x} g(\\mathbf{x}) = 2 \\mu \\mathbf{x}\n",
    "$$\n",
    "\n",
    "Then, let $r_i$ be the i-th row and $a_i$ be the i-th column of A.\n",
    "\n",
    "$$\n",
    "h(\\mathbf{x}) = \\Sigma_{i=1}^m (r_i \\mathbf{x} -y_i)^2 = \\Sigma_{i=1}^m ((\\Sigma_{j=1}^n a_{ij}x_j)^2 - 2 y_i \\Sigma_{j=1}^n a_{ij} x_j + y^2_i) \\implies \\frac{\\partial h}{\\partial x_p} = \\Sigma_{i=1}^m 2 a_{ip} r_i \\mathbf{x} - 2 a_{ip} y_i = 2 a_p^T A \\mathbf{x} - 2 a_p^T \\mathbf{y} \\\\\n",
    "\\implies \\nabla_x h(\\mathbf{x}) = 2A^T(A\\mathbf{x} - \\mathbf{y})\n",
    "$$\n",
    "\n",
    "We get that the gradient of $T(\\mathbf{x})$ is:\n",
    "$$\n",
    "\\nabla_\\mathbf{x} T(\\mathbf{\\mathbf{x}}) = \\frac{1}{2} \\nabla h + \\nabla g = A^T (A\\mathbf{x}- \\mathbf{y}) + 2 \\mu \\mathbf{x} = (A^TA+\\mu I) \\mathbf{x} - A^T\\mathbf{y}\n",
    "$$ \n",
    "\n",
    "If we set $\\nabla_\\mathbf{x} T(\\mathbf{x}) = 0$, we get the expression that we wanted to find: \n",
    "\n",
    "$$\n",
    "(A^TA + \\mu I)\\mathbf{x} = A^T\\mathbf{y} \\quad \\square\n",
    "$$\n",
    "\n",
    "Where $\\mathbf{x} = \\mathbf{x}_r$ is a solution of $\\mathbf{x}_r = \\underset{\\mathbf{x} \\in \\mathbb{R}}{argmin} \\left\\| A\\mathbf{x}-\\mathbf{y} \\right\\|^2 + \\mu \\left\\| \\mathbf{x} \\right\\|^2$"
   ]
  },
  {
   "cell_type": "markdown",
   "metadata": {},
   "source": [
    "Now we have to show that $(A^TA + \\mu I)$ is SPD, and therefore invertible. This result will be used later in this task. In order to show that the matrix is SPD we have to show that it is symmetric and that $\\mathbf{x}^TB^T\\mathbf{x} > 0$ for all $\\mathbf{x} \\in \\mathbb{R}^n$ \\ ${\\mathbf{\\left\\{0 \\right\\}}}$.\n",
    "\n",
    "First, we consider symmetry: \n",
    "$$\n",
    "(A^TA + \\mu I)^T = (A^TA)^T + (\\mu I)^T = A^TA + \\mu I \\quad ok\n",
    "$$\n",
    "\n",
    "Secondly, we have to show that the matrix is SPD: \n",
    "\n",
    "\\begin{align*}\n",
    "\\mathbf{x}^T(A^TA + \\mu I)\\mathbf{x} &= \\mathbf{x}^TA^TA\\mathbf{x} + \\mu\\mathbf{x}^TI\\mathbf{x}^T \\\\\n",
    "&=(A\\mathbf{x})^T(A\\mathbf{x}) + \\mu\\mathbf{x}^T\\mathbf{x}\\\\\n",
    "&= ||A\\mathbf{x}||^2 + \\mu||\\mathbf{x}|| \\geq \\mu||\\mathbf{x}|| > 0\\\\\n",
    "\\end{align*}\n",
    "\n",
    "The last inequality comes from positive definiteness of norms and the fact that $\\mathbf{x} ≠ 0$. As a result, the matrix is SPD and symmetric, and therefore invertible. $\\quad \\square$ \n"
   ]
  },
  {
   "cell_type": "markdown",
   "metadata": {},
   "source": [
    "2.b) To try and solve the system, we need to find an expression for $\\mathbf{x}_r$. Therefore, we want to show that $\\mathbf{x}_r$ satisfies $\\mathbf{x}_r = VDU^T$ by using SVD for $A$:\n",
    "\n",
    "\\begin{align*} \n",
    "(A^TA + \\mu VV^T)\\mathbf{x} &= A^T\\mathbf{y} \\\\\n",
    "((U\\Sigma V^T)^T(U\\Sigma V^T) + \\mu VV^T) \\mathbf{x}_r &= (U\\Sigma V^T)^T\\mathbf{y} \\\\\n",
    "(V\\Sigma^T U^TU\\Sigma V^T + \\mu VV^T) \\mathbf{x}_r &= V\\Sigma^T U^T\\mathbf{y} \\\\\n",
    "V(\\Sigma^T \\Sigma + \\mu ) V^T \\mathbf{x}_r &= V\\Sigma^T U^T\\mathbf{y} \\\\\n",
    "V^T \\mathbf{x}_r &= (\\Sigma^T \\Sigma + \\mu )^{-1} \\Sigma^T U^T\\mathbf{y} \\\\\n",
    "\\mathbf{x}_r &= V^{-T} (\\Sigma^T \\Sigma + \\mu )^{-1} \\Sigma^T U^T\\mathbf{y} \\\\\n",
    "\\mathbf{x}_r &= V D U^T\\mathbf{y} \n",
    "\\end{align*}\n",
    "\n",
    "Here $D = (\\Sigma^T \\Sigma + \\mu )^{-1} \\Sigma^T$. We also know that V is orthogonal, such that $V^{-1} = V^T$ and $V^T=V$. This gives $V^{-T}=V$. $\\quad \\square$ "
   ]
  },
  {
   "cell_type": "markdown",
   "metadata": {},
   "source": [
    "2.c) Now that we have an expression for $\\mathbf{x}_r$, we want to create a function that uses the SVD to solve the problem above. To do this we have to know what the diagonal matrix D looks like. We know that $\\Sigma \\in \\mathbb{R}^{mxn}$, where m < n. In addition we know that D contains  the singular values of $A$ on the diagonal: $\\sigma_1, \\sigma_2, \\cdots, \\sigma_m$. The rest of the elemnts in $\\Sigma$ is zero. \n",
    "\n",
    "$$\n",
    "\\Sigma = \n",
    "\\begin{bmatrix}\n",
    "\\sigma_1 & &  &  &  & & \\\\\n",
    "& \\ddots&  &  &  & & \\\\\n",
    "& & \\ddots &  & &  &\\\\\n",
    "& & &\\sigma_m & &  & \\\\\n",
    "\\end{bmatrix}\n",
    "$$\n",
    "\n",
    "$$\n",
    "\\Sigma^T = \\begin{bmatrix}\n",
    " \\sigma_1&  &  &  \\\\\n",
    " &  \\ddots &  &  \\\\\n",
    " &  &\\ddots  &  \\\\\n",
    " &  &  & \\sigma_m \\\\\n",
    " &  &  &  \\\\\n",
    " &  &  &  \\\\\\\n",
    " & &  &  \\\\\n",
    "\\end{bmatrix}\n",
    "$$\n",
    "\n",
    "$$ \n",
    "\\implies\n",
    "\\Sigma^T\\Sigma = \n",
    "\\begin{bmatrix}\n",
    " \\sigma_1^2&  &  &  &  &  &  \\\\\n",
    " & \\ddots &  &  &  &  &  \\\\\n",
    " &  & \\ddots &  &  &  &  \\\\\n",
    " &  &  & \\sigma_m^2 &  &  &  \\\\\n",
    " &  &  &  & 0 &  &  \\\\\n",
    " &  &  &  &  & \\ddots &  \\\\\n",
    " &  &  &  &  &  & 0 \\\\\n",
    "\\end{bmatrix}\n",
    "$$\n",
    "\n",
    "We have that $(\\Sigma^T\\Sigma)_{ij} = 0$, except on the diagonal where $(\\Sigma^T\\Sigma)_{ii} = \\sigma_i$ for $i = 0,1,...,m$. This yields that:\n",
    "\n",
    "$$\n",
    "(\\Sigma^T \\Sigma + \\mu I ) = \n",
    "\\begin{bmatrix}\n",
    " \\sigma_1^2 + \\mu&  &  &  &  &  &  \\\\\n",
    " & \\ddots &  &  &  &  &  \\\\\n",
    " &  & \\ddots &  &  &  &  \\\\\n",
    " &  &  & \\sigma_m^2 + \\mu &  &  &  \\\\\n",
    " &  &  &  & \\mu &  &  \\\\\n",
    " &  &  &  &  & \\ddots &  \\\\\n",
    " &  &  &  &  &  & \\mu \\\\\n",
    "\\end{bmatrix}\n",
    "$$\n",
    "\n",
    "Since $\\Sigma^T \\Sigma + \\mu I$ is diagonal, the inverse is easy to calculate:\n",
    "\n",
    "$$\n",
    "(\\Sigma^T \\Sigma + \\mu I )^{-1} = \n",
    "\\begin{bmatrix}\n",
    " \\frac{1}{\\sigma_1^2 + \\mu}&  &  &  &  &  &  \\\\\n",
    " & \\ddots &  &  &  &  &  \\\\\n",
    " &  & \\ddots &  &  &  &  \\\\\n",
    " &  &  & \\frac{1}{\\sigma_m^2 + \\mu} &  &  &  \\\\\n",
    " &  &  &  & \\frac{1}{\\mu} &  &  \\\\\n",
    " &  &  &  &  & \\ddots &  \\\\\n",
    " &  &  &  &  &  & \\frac{1}{\\mu} \\\\\n",
    "\\end{bmatrix}\n",
    "$$\n",
    "\n",
    "$$\n",
    "D = (\\Sigma^T \\Sigma + \\mu I )^{-1}\\Sigma^T = \\begin{bmatrix}\n",
    " \\frac{\\sigma_1}{\\sigma_1^2 + \\mu}&  &  &  \\\\\n",
    "&  \\ddots & &  \\\\\n",
    "&  &\\ddots  &  \\\\\n",
    "&  &  & \\frac{\\sigma_m}{\\sigma_m^2 + \\mu}\\\\\n",
    "&  &  &  \\\\\n",
    "&  &  &  \\\\\n",
    "&  &  &  \\\\\n",
    "\\end{bmatrix}\n",
    "$$\n",
    "\n",
    "Where $D \\in \\mathbb{R}^{nxm}$ for m < n."
   ]
  },
  {
   "cell_type": "markdown",
   "metadata": {},
   "source": [
    "Knowing the matrix D, we are now ready to implement our Tikhonov_solveSVD()-function:"
   ]
  },
  {
   "cell_type": "code",
   "execution_count": 20,
   "metadata": {},
   "outputs": [],
   "source": [
    "def Tikhonov_solveSVD(U,S,Vt,mu, y):\n",
    "    #S er her sigma matrisen med de singulære verdiene, men representert som en vektor\n",
    "    '''\n",
    "    Calculates x_r.\n",
    "    Input:\n",
    "        m * m Matrix U\n",
    "        Vector S with dimention m \n",
    "        n * n Matrix Vt, (inverse of V)\n",
    "        Value mu > 0 \n",
    "        Vector y with dimention m\n",
    "    Output:\n",
    "        \"Balanced\" solution x_r\n",
    "    '''\n",
    "    m = U.shape[0]\n",
    "    n = Vt.shape[0]\n",
    "    D = np.zeros(n*m, dtype = float).reshape(n,m)\n",
    "    V = Vt.T\n",
    "    for i in range(len(S)): #calculate VdotD and the inverse of A, which is the D from 2b)\n",
    "        D[i][i] = S[i]/(S[i]*S[i]+ mu) \n",
    "    \n",
    "    VD = np.dot(V, D)\n",
    "    VDUT = np.dot(VD,U.T)\n",
    "    x_r = np.dot(VDUT, y) \n",
    "    return x_r"
   ]
  },
  {
   "cell_type": "markdown",
   "metadata": {},
   "source": [
    "d) Now we want to do a nummerical experiment where solve our system for many values of $\\mu$. Here we create our own solver that uses SVD, and compare it to numpy.linalg.solve(). We genereate 100 different logarithmically spaced values of $\\mu$ to evalute the SVD solver. When using numpy.linalg.solve(), we decrease this value to 30. However, when calculating the values $\\mathbf{x}_r$, we save the error $||\\mathbf{x}_r(\\mu) − \\mathbf{x}_{true}||$ so that we can make comparisons. "
   ]
  },
  {
   "cell_type": "code",
   "execution_count": 21,
   "metadata": {},
   "outputs": [],
   "source": [
    "mu_vals = np.logspace(6,-6,num = 100)\n",
    "\n",
    "y = Y[:,0]\n",
    "x_true = X[:,0]\n",
    "\n",
    "def SVD_Solver(A, x_true, y, mu_vals):\n",
    "    '''\n",
    "    Takes in A, x_true, y and mu_vals(for the SVD solver) and returns a list of errors ||x_r - x_true||\n",
    "    Input: \n",
    "        m * n Matrix A, m < n. \n",
    "        Vector x_true with dimention n\n",
    "        Vector y with dimention m\n",
    "        Vector mu_vals_numpy \n",
    "    Output:\n",
    "        List of errors \n",
    "    '''\n",
    "    U, S, Vt = np.linalg.svd(A, full_matrices=False)\n",
    "    error = np.zeros(len(mu_vals), dtype = float)\n",
    "    for i in range(len(mu_vals)):\n",
    "        xr = Tikhonov_solveSVD(U, S, Vt, mu_vals[i], y)\n",
    "        error[i] = la.norm(xr - x_true)\n",
    "    return error"
   ]
  },
  {
   "cell_type": "code",
   "execution_count": 22,
   "metadata": {},
   "outputs": [],
   "source": [
    "mu_vals_numpy = np.logspace(6,-6,num = 30)\n",
    "\n",
    "def Numpy_Solver(A, x_true, y, mu_vals_numpy):\n",
    "    '''\n",
    "    Takes in A, x_true, y and mu_vals(less values than mu-values for the SVD solver) and returns a list of errors ||x_r - x_true||\n",
    "    Input: \n",
    "        m * n Matrix A, m < n. \n",
    "        Vector x_true with dimention n\n",
    "        Vector y with dimention m\n",
    "        Vector mu_vals_numpy \n",
    "    Output:\n",
    "        List of errors \n",
    "    '''\n",
    "    ATA = np.dot(A.T, A)\n",
    "    ATb = np.dot(A.T,y)\n",
    "    n = ATA.shape[0]\n",
    "    error = np.zeros(len(mu_vals_numpy), dtype = float)\n",
    "    \n",
    "    for i in range(len(mu_vals_numpy)):\n",
    "        x = np.linalg.solve(ATA+mu_vals_numpy[i]*np.identity(n), ATb)\n",
    "        error[i] = la.norm(x - x_true)\n",
    "    return error"
   ]
  },
  {
   "cell_type": "code",
   "execution_count": 216,
   "metadata": {},
   "outputs": [
    {
     "name": "stdout",
     "output_type": "stream",
     "text": [
      "1min 48s ± 0 ns per loop (mean ± std. dev. of 1 run, 1 loop each)\n"
     ]
    }
   ],
   "source": [
    "%%timeit -r 1 -n 1\n",
    "error_mySolver = SVD_Solver(A, x_true, y, mu_vals)"
   ]
  },
  {
   "cell_type": "code",
   "execution_count": 220,
   "metadata": {},
   "outputs": [
    {
     "name": "stdout",
     "output_type": "stream",
     "text": [
      "1min 33s ± 0 ns per loop (mean ± std. dev. of 1 run, 1 loop each)\n"
     ]
    }
   ],
   "source": [
    "%%timeit -r 1 -n 1\n",
    "error_numpy = Numpy_Solver(A, x_true, y, mu_vals_numpy)"
   ]
  },
  {
   "cell_type": "code",
   "execution_count": 299,
   "metadata": {},
   "outputs": [
    {
     "name": "stdout",
     "output_type": "stream",
     "text": [
      "||x_min - x_true|| =  78.74387637205419\n"
     ]
    }
   ],
   "source": [
    "Q, R = np.linalg.qr(A.transpose())\n",
    "x_min = solve_QR(Q,R,y)\n",
    "norm_x_min = la.norm(x_min-x_true)\n",
    "print('||x_min - x_true|| = ', norm_x_min)"
   ]
  },
  {
   "cell_type": "markdown",
   "metadata": {},
   "source": [
    "Above, we have calculated the $\\mathbf{x}_{min}$ solution. The reason for this is so that we can compare $||\\mathbf{x}_{min} - \\mathbf{x}_{true}||$ to our plotting below.  "
   ]
  },
  {
   "cell_type": "code",
   "execution_count": 300,
   "metadata": {},
   "outputs": [
    {
     "data": {
      "image/png": "[encoded data removed]",
      "text/plain": [
       "<Figure size 576x288 with 1 Axes>"
      ]
     },
     "metadata": {
      "needs_background": "light"
     },
     "output_type": "display_data"
    }
   ],
   "source": [
    "plt.plot(mu_vals, error_mySolver, label = \"SVD solver\")\n",
    "plt.plot(mu_vals_numpy, error_numpy, label = \"Numpy.linalg.solve()\")\n",
    "plt.plot(mu_vals, norm_x_min*np.ones(100), label = \"x_min\")\n",
    "plt.xscale(\"log\")\n",
    "plt.grid()\n",
    "plt.ylabel('Error')\n",
    "plt.xlabel('$\\mu$')\n",
    "plt.legend()\n",
    "plt.title(\"Error as a function of $\\mu$_r\")\n",
    "plt.show()"
   ]
  },
  {
   "cell_type": "markdown",
   "metadata": {},
   "source": [
    "Examining the graph above, we can see that the SVD and numpy solver has the same error. In addition, the numpy.linalg.solve() requires a lot more computational power than the SVD solver. The reason may be that we have calculated an SVD of A beforehand, so that SVD_Solver() calculates x_r with fewer steps than Numpy_Solver(). Moreover, for $\\mu$ values less than approximately $10^1$, we have that the error converges to the error in $\\mathbf{x}_{min}$. For $\\mu$-values larger than $10^1$, the error becomes larger. Therefore it is reasonable to state that $\\mu$-values less than $10^1$ gives a good reconstruction of $\\mathbf{x}_{true}$. "
   ]
  },
  {
   "cell_type": "markdown",
   "metadata": {},
   "source": [
    "# Task 3"
   ]
  },
  {
   "cell_type": "markdown",
   "metadata": {},
   "source": [
    "In this task we are going to study Single Channel Source Separation. The main idea is that we separate a system into two vectors $\\mathbf{u}$ and $\\mathbf{v}$ so that $A\\mathbf{x} = \\mathbf{y} = \\mathbf{u} + \\mathbf{v}$, while $\\mathbf{u}$ are small in some norm, and $\\mathbf{v}$ are small in some other norm. Using some of the coding from task 1) we are going to separate images from the handed out code into $\\mathbf{u}$ and $\\mathbf{v}$. This way, we can make an assessment of how well Single Channel Source Separation works when combining it with our coding from task 1)."
   ]
  },
  {
   "cell_type": "markdown",
   "metadata": {},
   "source": [
    "Here are some of elements that we will use throughout this task:\n",
    "\n",
    "\n",
    "$$\n",
    "B = \\begin{bmatrix}\n",
    "B_0 & 0 \\\\\n",
    "0 & B_1 \\\\\n",
    "\\end{bmatrix} =  \n",
    "\\begin{bmatrix}\n",
    "I-W_0W_0^T & 0 \\\\\n",
    "0 & I-W_1W_1^T \\\\\n",
    "\\end{bmatrix}, \\quad A =\\begin{bmatrix} I&  I\\\\\\end{bmatrix}, \\quad \\mathbf{x} = \\begin{bmatrix}\\mathbf{u}\\\\\\mathbf{v}\\end{bmatrix}\n",
    "$$"
   ]
  },
  {
   "cell_type": "markdown",
   "metadata": {},
   "source": [
    "3.a) We are going to show that B is a projection matrix and that it is symmetric positive semi-definite. This results will be helpfull later.\n",
    "\n",
    "Projection:\n",
    "$$\n",
    "B^2 = (I-WW^T)(I-WW^T) = I - WW^T - IWW^T + WW^TWW^T = I - 2WW^T + WW^T = I - WW^T = B\n",
    "$$\n",
    "\n",
    "Symmetric:\n",
    "$$\n",
    "B^T = (I-WW^T)^T = I^T - (W^T)^TW^T = I-WW^T = B\n",
    "$$\n",
    "\n",
    "Positive semi-definite:\n",
    "$$\n",
    "\\mathbf{x}^TA\\mathbf{x} = \\mathbf{x}^TB^2\\mathbf{x} = \\mathbf{x}^TB^TB\\mathbf{x} = (B\\mathbf{x})^T(B\\mathbf{x}) = \\left\\| B\\mathbf{x}\\right\\|^2 \\geq 0 \n",
    "$$\n",
    "\n",
    "The last inequality comes from the positive definiteness of norms. "
   ]
  },
  {
   "cell_type": "markdown",
   "metadata": {},
   "source": [
    "3.b) In this part we are going to find find a set of equations so that we can find $\\mathbf{u}$ and $\\mathbf{v}$. At the end we are going to test our implementations with the handed-out code. \n",
    "\n",
    "\n",
    "1) First we want to show that we get the system:\n",
    "\n",
    "$$\n",
    "\\begin{bmatrix}\n",
    " \\frac{1}{2}(B^T+B)& A^T  \\\\\n",
    " A& 0 \\\\\n",
    "\\end{bmatrix} \n",
    "\\begin{bmatrix}\n",
    " \\mathbf{x}\\\\\n",
    " \\lambda\n",
    "\\end{bmatrix}\n",
    "= \n",
    "\\begin{bmatrix}\n",
    " 0\\\\\n",
    " \\mathbf{y}\n",
    "\\end{bmatrix}\n",
    "$$\n",
    "\n",
    "And that this can be written as: \n",
    "\n",
    "$$\n",
    "\\begin{bmatrix}\n",
    "I-W_0W_0^T & 0 & I \\\\\n",
    "0 & I-W_1W_1^T & I \\\\\n",
    "I & I & 0 \\\\\n",
    "\\end{bmatrix}\n",
    "\\begin{bmatrix}\n",
    "\\mathbf{u}\\\\\n",
    "\\mathbf{v}\\\\\n",
    "\\lambda\\\\\n",
    "\\end{bmatrix}\n",
    "= \n",
    "\\begin{bmatrix}\n",
    "0\\\\\n",
    "0\\\\\n",
    "\\mathbf{y}\\\\\n",
    "\\end{bmatrix}\n",
    "$$\n",
    "by using the minimal norm approach. \n",
    "\n",
    "\n",
    "We have that $\\nabla_x \\mathcal{L}(\\mathbf{x}, \\mathbf{\\lambda}) = \\frac{1}{2}\\mathbf{x}^TB\\mathbf{x}+\\lambda^T(A\\mathbf{x}-\\mathbf{y})$. \n",
    "\n",
    "Now we want to calculate $\\nabla_x \\mathcal{L}(\\mathbf{x}, \\mathbf{\\lambda})$ and $\\nabla_\\lambda \\mathcal{L}(\\mathbf{x}, \\mathbf{\\lambda})$ and set them equal to zero, like we did earlier. This way we can find a system of equations so that we can calculate $\\mathbf{u}$ and $\\mathbf{v}$:\n",
    "\n",
    "$$\n",
    "\\nabla_x \\mathcal{L}(\\mathbf{x}, \\mathbf{\\lambda}) = \\nabla_x (\\frac{1}{2}\\mathbf{x}^TB\\mathbf{x} + \\lambda^T(A\\mathbf{x}-\\mathbf{y}))\n",
    "$$\n",
    "\n",
    "We recognize the second term from 1.c). Therefore we only have to calculate the first term: \n",
    "\n",
    "$$\n",
    "\\nabla_\\mathbf{x} (\\mathbf{x}^TB\\mathbf{x}) = \\nabla_\\mathbf{x}(\\Sigma_{i=1}^n b_i^T \\mathbf{x} x_i) \\implies \\frac{\\partial (\\Sigma_{i=1}^n b_i^T \\mathbf{x} x_i)}{\\partial x_p} = b_p^T \\mathbf{x} + \\Sigma_{j=1}^n b_{pj} x_j = b_p^T \\mathbf{x} + r_p \\mathbf{x}\n",
    "$$\n",
    "\n",
    "Where $b_p$ is the p-th column and $r_p$ is the p-th row of B. \n",
    "\n",
    "$$\n",
    "\\nabla_\\mathbf{x} (\\mathbf{x}^TB\\mathbf{x}) = \n",
    "\\begin{bmatrix} b_1^T \\mathbf{x} + r_1 x \\\\ \\vdots \\\\ b_n^T\\mathbf{x} + r_n \\mathbf{x} \n",
    "\\end{bmatrix} = (B^T + B)\\mathbf{x} \n",
    "$$\n",
    "\n",
    "Combining these two we get:\n",
    "\n",
    "$$\n",
    "\\nabla_x \\mathcal{L}(\\mathbf{x}, \\mathbf{\\lambda}) = (B^T + B)\\mathbf{x} + A^T\\lambda\n",
    "$$\n",
    "\n",
    "Further, we have that $\\nabla_\\lambda \\mathcal{L}(\\mathbf{x}, \\mathbf{\\lambda}) = \\nabla_\\lambda(\\lambda^T(B\\mathbf{x}- \\mathbf{y}))$. We did this calculation in 1c) as well, so we finally get: \n",
    "\n",
    "\\begin{align*} \n",
    "(I)\\quad \\nabla_x \\mathcal{L}(\\mathbf{x}, \\mathbf{\\lambda}) &= (B^T + B)\\mathbf{x} + A^T\\lambda = 0 \\\\\n",
    "(II) \\quad \\nabla_\\lambda \\mathcal{L}(\\mathbf{x}, \\mathbf{\\lambda}) &= B\\mathbf{x}- \\mathbf{y} = 0 \n",
    "\\end{align*} \n",
    "\n",
    "If we look at the system we were supposed to find, we have that:\n",
    "\n",
    "\n",
    "$$\n",
    "\\begin{bmatrix}\n",
    " \\frac{1}{2}(B^T+B)& A^T  \\\\\n",
    " A& 0 \\\\\n",
    "\\end{bmatrix} \n",
    "\\begin{bmatrix}\n",
    " \\mathbf{x}\\\\\n",
    " \\lambda\n",
    "\\end{bmatrix}\n",
    "= \n",
    "\\begin{bmatrix}\n",
    " 0\\\\\n",
    " \\mathbf{y}\n",
    "\\end{bmatrix}\n",
    "$$\n",
    "\n",
    "Calculating the matrix multiplication we get:\n",
    "\n",
    "$$\n",
    "\\begin{bmatrix}\n",
    "\\frac{1}{2}(B^T+B)\\mathbf{x} + A^T\\lambda\\\\\n",
    " A\\mathbf{x}\n",
    "\\end{bmatrix}\n",
    "= \n",
    "\\begin{bmatrix}\n",
    " 0\\\\\n",
    " \\mathbf{y}\n",
    "\\end{bmatrix}\n",
    "$$\n",
    "\n",
    "We can see that this is the same system that we have in $(I)$ and $(II)$. We also know that B is symmetric, meaning that $\\frac{1}{2}(B^T+B) A^T = B\\mathbf{x} + A^T\\lambda$. Rewriting our system we get: \n",
    "\n",
    "$$\n",
    "\\begin{bmatrix}\n",
    " B & A^T  \\\\\n",
    " A& 0 \\\\\n",
    "\\end{bmatrix} \n",
    "\\begin{bmatrix}\n",
    " \\mathbf{x}\\\\\n",
    " \\lambda\n",
    "\\end{bmatrix}\n",
    "= \n",
    "\\begin{bmatrix}\n",
    " 0\\\\\n",
    " \\mathbf{y}\n",
    "\\end{bmatrix}\n",
    "$$"
   ]
  },
  {
   "cell_type": "markdown",
   "metadata": {},
   "source": [
    "Furthermore, we can plug the values of $A$, $B$ and $\\mathbf{x}$ into our system:\n",
    "\n",
    "$$\n",
    "\\begin{bmatrix}\n",
    "B_0 & 0 & I \\\\\n",
    "0 & B_1 & I \\\\\n",
    "I & I & 0 \\\\\n",
    "\\end{bmatrix}\n",
    "\\begin{bmatrix}\n",
    "\\mathbf{u}\\\\\n",
    "\\mathbf{v}\\\\\n",
    "\\lambda\\\\\n",
    "\\end{bmatrix}\n",
    "= \n",
    "\\begin{bmatrix}\n",
    "0\\\\\n",
    "0\\\\\n",
    "\\mathbf{y}\\\\\n",
    "\\end{bmatrix}\n",
    "$$\n",
    "\n",
    "\n",
    "$$\n",
    "\\implies\n",
    "\\begin{bmatrix}\n",
    "I-W_0W_0^T & 0 & I \\\\\n",
    "0 & I-W_1W_1^T & I \\\\\n",
    "I & I & 0 \\\\\n",
    "\\end{bmatrix}\n",
    "\\begin{bmatrix}\n",
    "\\mathbf{u}\\\\\n",
    "\\mathbf{v}\\\\\n",
    "\\lambda\\\\\n",
    "\\end{bmatrix}\n",
    "= \n",
    "\\begin{bmatrix}\n",
    "0\\\\\n",
    "0\\\\\n",
    "\\mathbf{y}\\\\\n",
    "\\end{bmatrix}\n",
    "\\quad \\square\n",
    "$$ \n"
   ]
  },
  {
   "cell_type": "markdown",
   "metadata": {},
   "source": [
    "2) Secondly, this system can be written as: \n",
    "\n",
    "$$\n",
    "\\begin{bmatrix}\n",
    "(I-W_0W_0^T)\\mathbf{u} + I\\lambda \\\\\n",
    "(I-W_1W_1^T)\\mathbf{v} + I\\lambda\\\\\n",
    " \\mathbf{u} + \\mathbf{v}\n",
    "\\end{bmatrix} = \n",
    "\\begin{bmatrix}\n",
    "0 \\\\\n",
    "0\\\\\n",
    "\\mathbf{y}\n",
    "\\end{bmatrix}\n",
    "$$\n",
    "\n",
    "By combining the first and second equation we get:\n",
    "\n",
    "\n",
    "\\begin{align*}\n",
    "(I-W_0W_0^T)\\mathbf{u} + I\\lambda &= (I-W_1W_1^T)\\mathbf{v} + I\\lambda \\\\\n",
    "(I-W_0W_0^T)\\mathbf{u} &= (I-W_1W_1^T)\\mathbf{v}  \\\\\n",
    "(I-W_0W_0^T)\\mathbf{u} &= (I-W_1W_1^T)(\\mathbf{u} - \\mathbf{y}) \\\\\n",
    "(I-W_0W_0^T)\\mathbf{u} - (I\\mathbf{y} - I\\mathbf{u} - W_1W_1^T\\mathbf{y}+W_1W_1^T\\mathbf{u}) &= 0 \\\\\n",
    "\\implies (2I-W_0W_0^T-W_1W_1^T)\\mathbf{u} &= (I-W_1W_1^T)\\mathbf{y}\n",
    "\\end{align*}\n",
    "\n",
    "Now, we define $C = (2I-W_0W_0^T-W_1W_1^T)$ and $\\mathbf{d} = (I-W_1W_1^T)\\mathbf{y}$, where $C \\in \\mathbb{R}$ and $d \\in \\mathbb{R}$. This yields the system:\n",
    "\n",
    "\n",
    "\\begin{align*}\n",
    "&(i) \\quad C\\mathbf{u} = \\mathbf{d} \\\\\n",
    "&(ii)\\quad \\mathbf{v} = \\mathbf{y} - \\mathbf{u}\n",
    "\\end{align*}"
   ]
  },
  {
   "cell_type": "markdown",
   "metadata": {},
   "source": [
    "Equations $(i)$ and $(ii)$ above will be used to calculate $\\mathbf{u}$ and $\\mathbf{v}$. Below are a chunk of handed-out code. "
   ]
  },
  {
   "cell_type": "code",
   "execution_count": 23,
   "metadata": {},
   "outputs": [
    {
     "name": "stdout",
     "output_type": "stream",
     "text": [
      "(784, 100)\n"
     ]
    },
    {
     "data": {
      "image/png": "[encoded data removed]",
      "text/plain": [
       "<Figure size 432x288 with 1 Axes>"
      ]
     },
     "metadata": {
      "needs_background": "light"
     },
     "output_type": "display_data"
    },
    {
     "data": {
      "image/png": "[encoded data removed]",
      "text/plain": [
       "<Figure size 432x288 with 1 Axes>"
      ]
     },
     "metadata": {
      "needs_background": "light"
     },
     "output_type": "display_data"
    }
   ],
   "source": [
    "Mixes = np.load('Data/mixed.npy')\n",
    "print(Mixes.shape) # Should be (784,100)\n",
    "\n",
    "plt.imshow(Mixes[:,1].reshape((28,28)), cmap = 'gray')\n",
    "plt.axis('off') # Removes the x and y axis to plot only the image\n",
    "plt.show()\n",
    "\n",
    "plt.imshow(Mixes[:,32].reshape((28,28)), cmap = 'gray')\n",
    "plt.axis('off') # Removes the x and y axis to plot only the image\n",
    "plt.show()"
   ]
  },
  {
   "cell_type": "code",
   "execution_count": 24,
   "metadata": {},
   "outputs": [
    {
     "name": "stdout",
     "output_type": "stream",
     "text": [
      "(784, 16)\n",
      "(784, 16)\n"
     ]
    },
    {
     "data": {
      "image/png": "[encoded data removed]",
      "text/plain": [
       "<Figure size 432x288 with 1 Axes>"
      ]
     },
     "metadata": {
      "needs_background": "light"
     },
     "output_type": "display_data"
    },
    {
     "data": {
      "image/png": "[encoded data removed]",
      "text/plain": [
       "<Figure size 432x288 with 1 Axes>"
      ]
     },
     "metadata": {
      "needs_background": "light"
     },
     "output_type": "display_data"
    }
   ],
   "source": [
    "W0 = np.load('Data/W0.npy')\n",
    "W1 = np.load('Data/W1.npy')\n",
    "print(W0.shape) # Should be (784,16)\n",
    "print(W1.shape) # Should be (784,16)\n",
    "\n",
    "plt.imshow(W0[:,0].reshape((28,28)), cmap = 'gray')\n",
    "plt.axis('off')\n",
    "plt.show()\n",
    "\n",
    "W0TW0 = np.dot(W0.T, W0)\n",
    "plt.imshow(W0TW0)\n",
    "plt.show()"
   ]
  },
  {
   "cell_type": "markdown",
   "metadata": {},
   "source": [
    "3) Thirdly, we want to implement a function that calculates $\\mathbf{u}$ and $\\mathbf{v}$. This function is implemented below, and makes use of the QR solver that we implemented in Task 1. We know from earlier that the solve_QR() is quite efficient, but it requires that we have already calculated QR. To calculate QR we use np.linalg.qr() insted of our own QR_decomp() because, as discussed earlier, it is much faster. The function calculates the QR of $C$, and then uses these values to find $\\mathbf{u}$ with solve_QR(). $\\mathbf{v}$ is then trivial to find.  "
   ]
  },
  {
   "cell_type": "code",
   "execution_count": 25,
   "metadata": {},
   "outputs": [],
   "source": [
    "n = W0.shape[0]"
   ]
  },
  {
   "cell_type": "code",
   "execution_count": 26,
   "metadata": {},
   "outputs": [],
   "source": [
    "def calc_uv(image_vec, W0, W1): #image_vec er y vec\n",
    "    '''\n",
    "    Takes in a solution vector y and basis W0 and W1, and returns u and v. Solves the system Cu = d and v = y - u. The function \n",
    "    calculates C and d, and then uses QR decomposition and solve_QR() (similar to what we did in task 1) to find u. \n",
    "    Input:\n",
    "        Image_vec with dimention n\n",
    "        Vector W0 \n",
    "        Vector W1\n",
    "    Output:\n",
    "        Vector u with dimention n\n",
    "        Vector v with dimention n\n",
    "    '''\n",
    "    n = np.shape(np.dot(W0,W0.T))[0]\n",
    "    I = np.identity(n)\n",
    "    W0W0T = np.dot(W0,W0.T)\n",
    "    W1W1T = np.dot(W1,W1.T) \n",
    "    \n",
    "    C = 2*I - W0W0T - W1W1T\n",
    "    d = np.dot((I - W1W1T),image_vec)\n",
    "    \n",
    "    Q,R = np.linalg.qr(C)\n",
    "    u = solve_QR(Q, R, d)\n",
    "    v = image_vec - u\n",
    "    return u, v \n",
    "\n",
    "u, v = calc_uv(Mixes[:,1], W0, W1)\n"
   ]
  },
  {
   "cell_type": "markdown",
   "metadata": {},
   "source": [
    "In the code block below we time how long it takes to separate all 100 images:"
   ]
  },
  {
   "cell_type": "code",
   "execution_count": 29,
   "metadata": {},
   "outputs": [
    {
     "name": "stdout",
     "output_type": "stream",
     "text": [
      "2.54 s ± 0 ns per loop (mean ± std. dev. of 1 run, 1 loop each)\n"
     ]
    }
   ],
   "source": [
    "%%timeit -r 1 -n 1\n",
    "for i in range(N-1):\n",
    "    calc_uv(Mixes[:,i], W0, W1)"
   ]
  },
  {
   "cell_type": "markdown",
   "metadata": {},
   "source": [
    "Separating all 100 images takes 2.54 seconds. Below, we test calc_uv() with one of the images from the handed-out code. "
   ]
  },
  {
   "cell_type": "code",
   "execution_count": 28,
   "metadata": {},
   "outputs": [
    {
     "data": {
      "image/png": "[encoded data removed]",
      "text/plain": [
       "<Figure size 432x288 with 1 Axes>"
      ]
     },
     "metadata": {
      "needs_background": "light"
     },
     "output_type": "display_data"
    },
    {
     "data": {
      "image/png": "[encoded data removed]",
      "text/plain": [
       "<Figure size 432x288 with 1 Axes>"
      ]
     },
     "metadata": {
      "needs_background": "light"
     },
     "output_type": "display_data"
    },
    {
     "data": {
      "image/png": "[encoded data removed]",
      "text/plain": [
       "<Figure size 432x288 with 1 Axes>"
      ]
     },
     "metadata": {
      "needs_background": "light"
     },
     "output_type": "display_data"
    },
    {
     "data": {
      "image/png": "[encoded data removed]",
      "text/plain": [
       "<Figure size 432x288 with 1 Axes>"
      ]
     },
     "metadata": {
      "needs_background": "light"
     },
     "output_type": "display_data"
    }
   ],
   "source": [
    "y_vec = u + v #u skal være 0, v skal være 1\n",
    "plt.imshow(Mixes[:,1].reshape((28,28)), cmap = 'gray')\n",
    "plt.axis('off')\n",
    "plt.title('Original')\n",
    "plt.show()\n",
    "\n",
    "plt.imshow(y_vec.reshape((28,28)), cmap = 'gray')\n",
    "plt.axis('off')\n",
    "plt.title('Reconstruction, u + v')\n",
    "plt.show()\n",
    "\n",
    "plt.imshow(u.reshape((28,28)), cmap = 'gray')\n",
    "plt.axis('off')\n",
    "plt.title('Image of digit 0, u')\n",
    "plt.show()\n",
    "\n",
    "plt.imshow(v.reshape((28,28)), cmap = 'gray')\n",
    "plt.axis('off')\n",
    "plt.title('Image of digit 1, v')\n",
    "plt.show()"
   ]
  },
  {
   "cell_type": "markdown",
   "metadata": {},
   "source": [
    "Looking at these images, we can see that the reconstruction is equal to the original. In spite of this we can see that the separation was not perfect, because there are noise in both separations $\\mathbf{u}$ and $\\mathbf{v}$. However, the separated images manage to represent 1 and 0 (but with some noise). As a conclusion, we say that the single channel source separation worked, but with the disadvantage that we get noise in the separations. Additionally, we can say that a disadvantage with the method is that we have to apply machine learing to obtain $W_0$ and $W_1$.  "
   ]
  },
  {
   "cell_type": "markdown",
   "metadata": {},
   "source": []
  }
 ],
 "metadata": {
  "kernelspec": {
   "display_name": "Python 3 (ipykernel)",
   "language": "python",
   "name": "python3"
  },
  "language_info": {
   "codemirror_mode": {
    "name": "ipython",
    "version": 3
   },
   "file_extension": ".py",
   "mimetype": "text/x-python",
   "name": "python",
   "nbconvert_exporter": "python",
   "pygments_lexer": "ipython3",
   "version": "3.9.7"
  },
  "vscode": {
   "interpreter": {
    "hash": "4938f9d76c626bd2382fc5cccf74818af44e77bda0d6f6ad34324f4a2a3068f3"
   }
  }
 },
 "nbformat": 4,
 "nbformat_minor": 4
}
